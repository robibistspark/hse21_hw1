{
 "cells": [
  {
   "cell_type": "code",
   "execution_count": 1,
   "metadata": {},
   "outputs": [],
   "source": [
    "import re"
   ]
  },
  {
   "cell_type": "code",
   "execution_count": 2,
   "metadata": {
    "scrolled": true
   },
   "outputs": [],
   "source": [
    "def get_info(f, text, output = True):\n",
    "    lengths = []\n",
    "    total_len = 0\n",
    "    num = 0\n",
    "    max_len = 0\n",
    "    length = 0\n",
    "    score = 0\n",
    "    max_sequence = ''\n",
    "    curr_sequence = ''\n",
    "    for line in f:\n",
    "        if (line[0] == '>'):\n",
    "            if num != 0:\n",
    "                lengths.append(length)\n",
    "            num += 1\n",
    "            if length >= max_len:\n",
    "                max_len = length\n",
    "                max_sequence = curr_sequence\n",
    "            curr_sequence = ''\n",
    "            length = 0\n",
    "        else:\n",
    "            curr_sequence += line.strip()\n",
    "            length += len(line.strip())\n",
    "            total_len += len(line.strip())\n",
    "     \n",
    "    lengths.sort(reverse = True) \n",
    "    for i in lengths:\n",
    "        score += i\n",
    "        if score >= total_len / 2:\n",
    "            if output == True:\n",
    "                print(f'Анализ {text}\\n\\\n",
    "Общее количество: {num},\\n\\\n",
    "Общая длина: {total_len},\\n\\\n",
    "Длина самого длинного: {max_len},\\n\\\n",
    "N50: {i}\\n')\n",
    "            break\n",
    "    return max_sequence"
   ]
  },
  {
   "cell_type": "markdown",
   "metadata": {},
   "source": [
    "Контиги"
   ]
  },
  {
   "cell_type": "code",
   "execution_count": 85,
   "metadata": {},
   "outputs": [
    {
     "name": "stdout",
     "output_type": "stream",
     "text": [
      "Анализ контигов\n",
      "Общее количество: 620,\n",
      "Общая длина: 3925016,\n",
      "Длина самого длинного: 179307,\n",
      "N50: 47611\n",
      "\n"
     ]
    }
   ],
   "source": [
    "_ = get_info(open('contigs.fa', 'r'), 'контигов')"
   ]
  },
  {
   "cell_type": "markdown",
   "metadata": {},
   "source": [
    "Скаффолды"
   ]
  },
  {
   "cell_type": "code",
   "execution_count": 10,
   "metadata": {},
   "outputs": [
    {
     "name": "stdout",
     "output_type": "stream",
     "text": [
      "Анализ скаффолдов\n",
      "Общее количество: 75,\n",
      "Общая длина: 3875916,\n",
      "Длина самого длинного: 3831953,\n",
      "N50: 3831953\n",
      "\n"
     ]
    }
   ],
   "source": [
    "max_scaf = get_info(open('scaffolds.fa', 'r'), 'скаффолдов')"
   ]
  },
  {
   "cell_type": "code",
   "execution_count": 6,
   "metadata": {},
   "outputs": [
    {
     "name": "stdout",
     "output_type": "stream",
     "text": [
      "Общая длина гэпов: 6960\n",
      "Число гэпов: 65\n"
     ]
    }
   ],
   "source": [
    "print(f'Общая длина гэпов: {max_scaf.count(\"N\")}')\n",
    "max_scaf = re.sub(r'N{2,}', 'N', max_scaf)\n",
    "print(f'Число гэпов: {max_scaf.count(\"N\")}')"
   ]
  },
  {
   "cell_type": "code",
   "execution_count": 8,
   "metadata": {
    "scrolled": true
   },
   "outputs": [
    {
     "name": "stdout",
     "output_type": "stream",
     "text": [
      "Общая длина гэпов для обрезанных чтений: 2139\n",
      "Число гэпов для обрезанных чтений: 12\n"
     ]
    }
   ],
   "source": [
    "max_scaf = get_info(open('Poil_gapClosed.fa', 'r'), 'скаффолдов', False)\n",
    "print(f'Общая длина гэпов для обрезанных чтений: {max_scaf.count(\"N\")}')\n",
    "max_scaf = re.sub(r'N{2,}', 'N', max_scaf)\n",
    "print(f'Число гэпов для обрезанных чтений: {max_scaf.count(\"N\")}')"
   ]
  },
  {
   "cell_type": "markdown",
   "metadata": {},
   "source": [
    "Получим последовательность самого длинного скаффолда (после закрытия гэпов) и запишем в файл"
   ]
  },
  {
   "cell_type": "code",
   "execution_count": 82,
   "metadata": {},
   "outputs": [],
   "source": [
    "with open('Poil_gapClosed.fa') as f:\n",
    "    text = f.read()\n",
    "text = text.replace('\\n','')\n",
    "scaffolds = re.findall('>scaffold\\d+_cov\\d+([ATCGN]+)', text)\n",
    "length = 0\n",
    "for i in scaffolds:\n",
    "    if len(i) > length:\n",
    "        length = len(i)\n",
    "        longest = i\n",
    "eighties = re.findall('[ATCGN]{80}', longest)\n",
    "eighties.append(longest[len(longest) - len(longest)%80:])\n",
    "with open('longest.fa', 'w', encoding='utf-8') as f:\n",
    "    for i in eighties:\n",
    "        f.write(i + '\\n')"
   ]
  }
 ],
 "metadata": {
  "kernelspec": {
   "display_name": "Python 3",
   "language": "python",
   "name": "python3"
  },
  "language_info": {
   "codemirror_mode": {
    "name": "ipython",
    "version": 3
   },
   "file_extension": ".py",
   "mimetype": "text/x-python",
   "name": "python",
   "nbconvert_exporter": "python",
   "pygments_lexer": "ipython3",
   "version": "3.8.3"
  }
 },
 "nbformat": 4,
 "nbformat_minor": 5
}
